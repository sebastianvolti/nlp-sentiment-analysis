{
 "cells": [
  {
   "cell_type": "markdown",
   "metadata": {
    "id": "MtTsEBpBpdKr"
   },
   "source": [
    "# Introducción \n",
    "Detallaremos en este breve informe cómo decidimos el modelo de redes neuronales y los hiperparámetros a utilizar.\n",
    "\n",
    "Basicamente realizamos validación cruzada de 5 folds sobre el conjunto de evaluación (pensamos que 5 era el valor que mejor se ajustaba a la cantidad de instancias del conjunto mencionado).\n",
    "\n",
    "# Modelo\n",
    "Decidimos trabajar con 5 modelos de redes neuronales distintos, tomando cómo modelo definitivo el que arrojó mejores resultados.\n",
    "\n",
    "Los hiperparámetros a ajustar están ligados a cada modelo en particular.\n",
    "\n",
    "Detallamos a continuación los 5 modelos de redes utilizados y los correspondientes hiperparámetros que ajustamos en cada uno de ellos.\n",
    "\n",
    "* **Modelo Simple:** *Ajuste de épocas.*\n",
    "* **Modelo LSTM:** *Ajuste de épocas, tamaño \"batches\", cantidad neuronas capa LSTM y porcentaje dropout.* \n",
    "* **Modelo LSTM con capa SpartialDropout1D:** *Ajuste de épocas, tamaño \"batches\", cantidad neuronas capa LSTM y porcentaje dropout.*\n",
    "* **Modelo LSTM bidireccional:** *Ajuste de épocas, tamaño \"batches\", cantidad neuronas capa LSTM y porcentaje dropout.*\n",
    "* **Modelo Convolucional:** *Ajuste de épocas, tamaño \"batches\", cantidad neuronas capa Conv1D y porcentaje dropout.*\n",
    "\n",
    "#Ajuste de hiperparámetros\n",
    "A continuación presentamos el código realizado, que para cada modelo, y determinada cantidad de valores para cada hiperparámetro, realiza validación cruzada de 5 folds, con el fin de encontrar el modelo y los valores de hiperparámetros que maximizan la métrica \"F1-score\".\n",
    "\n",
    "\n",
    "\n",
    "\n"
   ]
  },
  {
   "cell_type": "code",
   "execution_count": 10,
   "metadata": {
    "id": "1IT7xgzI1xk0"
   },
   "outputs": [
    {
     "ename": "ModuleNotFoundError",
     "evalue": "No module named 'keras'",
     "output_type": "error",
     "traceback": [
      "\u001b[0;31m---------------------------------------------------------------------------\u001b[0m",
      "\u001b[0;31mModuleNotFoundError\u001b[0m                       Traceback (most recent call last)",
      "\u001b[0;32m~/Documents/FING/ipln-lab-2020/crossValidation.py\u001b[0m in \u001b[0;36m<module>\u001b[0;34m\u001b[0m\n\u001b[1;32m      2\u001b[0m \u001b[0;32mfrom\u001b[0m \u001b[0mconstants\u001b[0m \u001b[0;32mimport\u001b[0m \u001b[0mES_ODIO\u001b[0m\u001b[0;34m,\u001b[0m \u001b[0mTWEET\u001b[0m\u001b[0;34m,\u001b[0m \u001b[0mMODEL_TYPES\u001b[0m\u001b[0;34m\u001b[0m\u001b[0;34m\u001b[0m\u001b[0m\n\u001b[1;32m      3\u001b[0m \u001b[0;32mimport\u001b[0m \u001b[0mdata\u001b[0m\u001b[0;34m\u001b[0m\u001b[0;34m\u001b[0m\u001b[0m\n\u001b[0;32m----> 4\u001b[0;31m \u001b[0;32mimport\u001b[0m \u001b[0mmodel\u001b[0m\u001b[0;34m\u001b[0m\u001b[0;34m\u001b[0m\u001b[0m\n\u001b[0m\u001b[1;32m      5\u001b[0m \u001b[0;34m\u001b[0m\u001b[0m\n\u001b[1;32m      6\u001b[0m \u001b[0mPATH\u001b[0m\u001b[0;34m=\u001b[0m\u001b[0;34m\"./resources\"\u001b[0m\u001b[0;34m\u001b[0m\u001b[0;34m\u001b[0m\u001b[0m\n",
      "\u001b[0;32m~/Documents/FING/ipln-lab-2020/model.py\u001b[0m in \u001b[0;36m<module>\u001b[0;34m\u001b[0m\n\u001b[0;32m----> 1\u001b[0;31m \u001b[0;32mfrom\u001b[0m \u001b[0mkeras\u001b[0m\u001b[0;34m.\u001b[0m\u001b[0mpreprocessing\u001b[0m\u001b[0;34m.\u001b[0m\u001b[0mtext\u001b[0m \u001b[0;32mimport\u001b[0m \u001b[0mTokenizer\u001b[0m\u001b[0;34m\u001b[0m\u001b[0;34m\u001b[0m\u001b[0m\n\u001b[0m\u001b[1;32m      2\u001b[0m \u001b[0;32mfrom\u001b[0m \u001b[0mkeras\u001b[0m\u001b[0;34m.\u001b[0m\u001b[0mpreprocessing\u001b[0m\u001b[0;34m.\u001b[0m\u001b[0msequence\u001b[0m \u001b[0;32mimport\u001b[0m \u001b[0mpad_sequences\u001b[0m\u001b[0;34m\u001b[0m\u001b[0;34m\u001b[0m\u001b[0m\n\u001b[1;32m      3\u001b[0m \u001b[0;32mfrom\u001b[0m \u001b[0mkeras\u001b[0m\u001b[0;34m.\u001b[0m\u001b[0mmodels\u001b[0m \u001b[0;32mimport\u001b[0m \u001b[0mSequential\u001b[0m\u001b[0;34m\u001b[0m\u001b[0;34m\u001b[0m\u001b[0m\n\u001b[1;32m      4\u001b[0m \u001b[0;32mfrom\u001b[0m \u001b[0mkeras\u001b[0m\u001b[0;34m.\u001b[0m\u001b[0mlayers\u001b[0m \u001b[0;32mimport\u001b[0m \u001b[0mDense\u001b[0m\u001b[0;34m,\u001b[0m \u001b[0mFlatten\u001b[0m\u001b[0;34m,\u001b[0m \u001b[0mLSTM\u001b[0m\u001b[0;34m,\u001b[0m \u001b[0mDropout\u001b[0m\u001b[0;34m,\u001b[0m \u001b[0mSpatialDropout1D\u001b[0m\u001b[0;34m,\u001b[0m \u001b[0mConv1D\u001b[0m\u001b[0;34m\u001b[0m\u001b[0;34m\u001b[0m\u001b[0m\n\u001b[1;32m      5\u001b[0m \u001b[0;32mfrom\u001b[0m \u001b[0mkeras\u001b[0m\u001b[0;34m.\u001b[0m\u001b[0mlayers\u001b[0m \u001b[0;32mimport\u001b[0m \u001b[0mGlobalMaxPooling1D\u001b[0m\u001b[0;34m,\u001b[0m \u001b[0mBidirectional\u001b[0m\u001b[0;34m,\u001b[0m \u001b[0mEmbedding\u001b[0m\u001b[0;34m\u001b[0m\u001b[0;34m\u001b[0m\u001b[0m\n",
      "\u001b[0;31mModuleNotFoundError\u001b[0m: No module named 'keras'"
     ]
    }
   ],
   "source": [
    "%run ./crossValidation.py"
   ]
  },
  {
   "cell_type": "markdown",
   "metadata": {
    "id": "SwwPlEU511RQ"
   },
   "source": [
    "# Resultados Obtenidos por Modelo\n",
    "Modelo:\n",
    "* **Modelo Simple**\n",
    "\n",
    "Valores de hiperparámetros seleccionados: \n",
    "* **Cantidad de épocas:** 20\n",
    "\n",
    "Modelo:\n",
    "* **Modelo LSTM 1**\n",
    "\n",
    "Valores de hiperparámetros seleccionados: \n",
    "* **Cantidad de épocas:** 20\n",
    "* **Tamaño \"batches\":** 128\n",
    "* **Cantidad de neuronas capa LSTM:** 128\n",
    "* **Porcentaje de Dropout:** 0.1\n",
    "\n",
    "Modelo:\n",
    "* **Modelo LSTM 2**\n",
    "\n",
    "Valores de hiperparámetros seleccionados: \n",
    "* **Cantidad de épocas:**40\n",
    "* **Tamaño \"batches\":** 256\n",
    "* **Cantidad de neuronas capa LSTM:** 64 \n",
    "* **Porcentaje de Dropout:** 0.3 \n",
    "\n",
    "Modelo:\n",
    "* **Modelo Convolucional**\n",
    "\n",
    "Valores de hiperparámetros seleccionados: \n",
    "* **Cantidad de épocas:** 10\n",
    "* **Tamaño \"batches\":** 64\n",
    "* **Cantidad de neuronas capa Conv1D:**  64\n",
    "* **Porcentaje de Dropout:** 0.1\n",
    "\n",
    "Modelo:\n",
    "* **Modelo Bidireccional**\n",
    "\n",
    "Valores de hiperparámetros seleccionados: \n",
    "* **Cantidad de épocas:** 40\n",
    "* **Tamaño \"batches\":** 128\n",
    "* **Cantidad de neuronas capa LSTM:** 64\n",
    "* **Porcentaje de Dropout:** 0.1\n",
    "\n"
   ]
  }
 ],
 "metadata": {
  "colab": {
   "authorship_tag": "ABX9TyOvVOwPPnEACm8BBppgduRH",
   "collapsed_sections": [],
   "name": "Ajuste Hiperparámetros y Modelo.ipynb",
   "provenance": []
  },
  "hide_input": false,
  "kernelspec": {
   "display_name": "Python 3",
   "language": "python",
   "name": "python3"
  },
  "language_info": {
   "codemirror_mode": {
    "name": "ipython",
    "version": 3
   },
   "file_extension": ".py",
   "mimetype": "text/x-python",
   "name": "python",
   "nbconvert_exporter": "python",
   "pygments_lexer": "ipython3",
   "version": "3.8.0"
  }
 },
 "nbformat": 4,
 "nbformat_minor": 1
}
